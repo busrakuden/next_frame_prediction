{
 "cells": [
  {
   "cell_type": "code",
   "execution_count": null,
   "metadata": {
    "colab": {
     "base_uri": "https://localhost:8080/"
    },
    "id": "0SPjojIMgUqU",
    "outputId": "69e2e0c6-bce0-47fd-beb6-556db3d71765"
   },
   "outputs": [
    {
     "name": "stdout",
     "output_type": "stream",
     "text": [
      "Mounted at /content/drive\n"
     ]
    }
   ],
   "source": [
    "from google.colab import drive\n",
    "drive.mount(\"/content/drive\", force_remount=True)"
   ]
  },
  {
   "cell_type": "code",
   "execution_count": null,
   "metadata": {
    "id": "vmMs6vYtsGcp"
   },
   "outputs": [],
   "source": [
    "import cv2\n",
    "import numpy as np\n",
    "from cv2 import VideoWriter, VideoWriter_fourcc\n",
    "\n",
    "width = 80\n",
    "height = 80\n",
    "FPS = 24\n",
    "seconds = 4\n",
    "for i in range(0,1200):\n",
    "    radius = np.random.randint(5,10)\n",
    "    radius2 = np.random.randint(10,20)\n",
    "    paint_h = np.random.randint(0, height)\n",
    "    paint_h2 = np.random.randint(0, height)\n",
    "\n",
    "    fourcc = VideoWriter_fourcc(*'mp4v')\n",
    "    name='/content/drive/MyDrive/circle_videos_80x80/circle_'+str(i+1)+'.mp4'\n",
    "    video = VideoWriter(name, fourcc, float(FPS), (width, height))\n",
    "\n",
    "    paint_x=np.random.randint(0, width)\n",
    "    directionx = np.random.randint(0, 3) - 1\n",
    "    directionh = np.random.randint(0, 3) - 1\n",
    "    while directionx == 0 and directionh == 0:\n",
    "        directionx = np.random.randint(0, 3) - 1\n",
    "        directionh = np.random.randint(0, 3) - 1\n",
    "\n",
    "    paint_x2=np.random.randint(0, width)\n",
    "    directionx2 = np.random.randint(0, 3) - 1\n",
    "    directionh2 = np.random.randint(0, 3) - 1\n",
    "    while directionx2 == 0 and directionh2 == 0:\n",
    "        directionx2 = np.random.randint(0, 3) - 1\n",
    "        directionh2 = np.random.randint(0, 3) - 1\n",
    "\n",
    "    for i in range(0,seconds*FPS):\n",
    "        frame=np.full((height, width, 3), 125, dtype=np.uint8)\n",
    "        paint_x+=directionx\n",
    "        paint_h+=directionh\n",
    "        if paint_x>=width or paint_x<=0:\n",
    "            if directionx==0:\n",
    "                directionx=1\n",
    "            else:\n",
    "                directionx=-directionx\n",
    "                directionh=-directionh\n",
    "        if paint_h>=height or paint_h<=0:\n",
    "            if directionh==0:\n",
    "                directionh=1\n",
    "            else:\n",
    "                directionx=-directionx\n",
    "                directionh=-directionh\n",
    "        cv2.circle(frame, (paint_x,paint_h), radius, ( 64 ,64,255), -1)\n",
    "        paint_x2+=directionx2\n",
    "        paint_h2+=directionh2\n",
    "        if paint_x2>=width or paint_x2<=0:\n",
    "            if directionx2==0:\n",
    "                directionx2=1\n",
    "            else:\n",
    "                directionx2=-directionx2\n",
    "                directionh2=-directionh2\n",
    "        if paint_h2>=height or paint_h2<=0:\n",
    "            if directionh2==0:\n",
    "                directionh2=1\n",
    "            else:\n",
    "                directionx2=-directionx2\n",
    "                directionh2=-directionh2\n",
    "        cv2.circle(frame, (paint_x2,paint_h2), radius2, (233 ,150 ,122), -1)\n",
    "        video.write(frame)\n",
    "\n",
    "    video.release()"
   ]
  }
 ],
 "metadata": {
  "colab": {
   "name": "create_videos.ipynb",
   "provenance": []
  },
  "kernelspec": {
   "display_name": "Python 3 (ipykernel)",
   "language": "python",
   "name": "python3"
  },
  "language_info": {
   "codemirror_mode": {
    "name": "ipython",
    "version": 3
   },
   "file_extension": ".py",
   "mimetype": "text/x-python",
   "name": "python",
   "nbconvert_exporter": "python",
   "pygments_lexer": "ipython3",
   "version": "3.9.7"
  }
 },
 "nbformat": 4,
 "nbformat_minor": 1
}
